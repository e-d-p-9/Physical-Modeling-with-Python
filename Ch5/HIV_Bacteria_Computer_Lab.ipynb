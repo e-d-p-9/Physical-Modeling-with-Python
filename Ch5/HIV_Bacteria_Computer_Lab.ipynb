{
 "cells": [
  {
   "cell_type": "markdown",
   "id": "95140225-d0a8-4bda-85cd-ae7680ee5cf0",
   "metadata": {},
   "source": [
    "# Chapter 5 Computer Lab 1 HIV/Bacteria"
   ]
  },
  {
   "cell_type": "markdown",
   "id": "c4f2b326-b95d-4a0e-837f-7b45ec27fd6e",
   "metadata": {},
   "source": [
    "import libraries"
   ]
  },
  {
   "cell_type": "code",
   "execution_count": 5,
   "id": "ea3087df-9abb-4d9f-94af-9852f2fe8323",
   "metadata": {},
   "outputs": [],
   "source": [
    "import numpy as np\n",
    "import matplotlib.pyplot as plt"
   ]
  },
  {
   "cell_type": "markdown",
   "id": "2650d227-b7a4-4b95-9018-8caafcb92a9b",
   "metadata": {},
   "source": [
    "import the hiv experimental data"
   ]
  },
  {
   "cell_type": "code",
   "execution_count": 6,
   "id": "f7d625ac-aeb0-4e55-92f5-8b6e3949e67f",
   "metadata": {
    "tags": []
   },
   "outputs": [
    {
     "name": "stdout",
     "output_type": "stream",
     "text": [
      "hiv data read\n"
     ]
    }
   ],
   "source": [
    "hiv_data_file = \"../pmls-data-master/01HIVseries/HIVseries.csv\"\n",
    "hiv_data = np.loadtxt(hiv_data_file, delimiter=',')\n",
    "hiv_num_days = np.array(hiv_data[:,0])\n",
    "hiv_num_virons = np.array(hiv_data[:,1])\n",
    "print('hiv data read')"
   ]
  },
  {
   "cell_type": "markdown",
   "id": "0c385400-6861-4279-b046-f568f091e06b",
   "metadata": {
    "tags": []
   },
   "source": [
    "display the hiv data"
   ]
  },
  {
   "cell_type": "code",
   "execution_count": 7,
   "id": "294ed46b-a912-45bd-856a-0aa9572cc54d",
   "metadata": {
    "tags": []
   },
   "outputs": [
    {
     "name": "stdout",
     "output_type": "stream",
     "text": [
      "HIV experimental data\n",
      "______________________\n",
      "number of days since start of antiretroviral treatment:\n",
      "[0.     0.0831 0.1465 0.2587 0.4828 0.7448 0.9817 1.2563 1.4926 1.7299\n",
      " 1.9915 3.0011 4.0109 5.009  5.9943 7.0028]\n",
      "\n",
      "number of virons in the blood:\n",
      "[106100.   93240.  166720.  153780.  118800.  116900.  109570.  111350.\n",
      "  74388.   83291.   66435.   35408.   21125.   20450.   15798.    4785.2]\n"
     ]
    }
   ],
   "source": [
    "print(\"HIV experimental data\")\n",
    "print(\"______________________\")\n",
    "print(\"number of days since start of antiretroviral treatment:\")\n",
    "print(hiv_num_days)\n",
    "print()\n",
    "print(\"number of virons in the blood:\")\n",
    "print(hiv_num_virons)"
   ]
  },
  {
   "cell_type": "markdown",
   "id": "f28bfb2c-4b21-4aae-9408-6499497c719a",
   "metadata": {},
   "source": [
    "# $V(t) = Ae^{-at} + Be^{-bt}$"
   ]
  },
  {
   "cell_type": "markdown",
   "id": "5d5e0348-839c-42fe-a85f-9caa69d01e96",
   "metadata": {},
   "source": [
    "looking at the data above we can see in the recorded data that \n",
    "\n",
    "$V(0) = 106100 $\n",
    "\n",
    "        & \n",
    "\n",
    "$V(7.0028) = 4785.2$"
   ]
  },
  {
   "cell_type": "markdown",
   "id": "48b86e38",
   "metadata": {},
   "source": [
    "assume $B = 0$"
   ]
  },
  {
   "cell_type": "code",
   "execution_count": 8,
   "id": "fdf33d17",
   "metadata": {},
   "outputs": [
    {
     "name": "stdout",
     "output_type": "stream",
     "text": [
      "B= 0\n"
     ]
    }
   ],
   "source": [
    "B = 0\n",
    "print(f\"B= {B}\")"
   ]
  },
  {
   "cell_type": "markdown",
   "id": "de1eda13",
   "metadata": {},
   "source": [
    "assume B = 0\n",
    "\n",
    "assume beta > alpha\n",
    "\n",
    "at $V(t=0)$ with $B=0$ we get:\n",
    "\n",
    "$V(0) = Ae^{-a*0} + 0$\n",
    "\n",
    "\n",
    "at $V(7.0028)$ with $B=0$ we get:\n",
    "\n",
    "$V(7,0028) = Ae^{-a*7.0028} + 0$ \n",
    "\n",
    "\n",
    "we know the value of $V(0)$ and $V(7.0028)$:\n",
    "\n",
    "$V(0) = A = 106100$\n",
    "\n",
    "\n",
    "$V(7.0028) = Ae^{-a*7.0028} = 4785.2$\n",
    "\n",
    "setting the value of A for $V(7.0028)$ we get:\n",
    "\n",
    "$V(7.0028) = 106100e^{-a*7.0028} = 4785.2$\n",
    "\n",
    "$e^{-a*7.0028} = \\frac{4785.2}{106100}$\n",
    "\n",
    "solving for alpha we get:\n",
    "\n",
    "$\\alpha = \\frac{2500(log(2) + 3log(5) - log(7) + log(1061) - log(1709))}{17507} = 0.442516$\n"
   ]
  },
  {
   "cell_type": "code",
   "execution_count": 37,
   "id": "792ab15a",
   "metadata": {},
   "outputs": [],
   "source": [
    "B = 0\n",
    "A = 106100\n",
    "beta = 1\n",
    "alpha = 0.442516"
   ]
  },
  {
   "cell_type": "code",
   "execution_count": 38,
   "id": "6447f9d8",
   "metadata": {},
   "outputs": [
    {
     "data": {
      "text/plain": [
       "[<matplotlib.lines.Line2D at 0x11389d8d0>]"
      ]
     },
     "execution_count": 38,
     "metadata": {},
     "output_type": "execute_result"
    },
    {
     "data": {
      "image/png": "[encoded data removed]",
      "text/plain": [
       "<Figure size 640x480 with 1 Axes>"
      ]
     },
     "metadata": {},
     "output_type": "display_data"
    }
   ],
   "source": [
    "plt.plot(hiv_num_days, hiv_num_virons, 'ko')\n",
    "t = np.linspace(0, 10, 101)\n",
    "v_t = A*np.e**(-alpha*t) + B*np.e**(-beta*t)\n",
    "plt.plot(t, v_t)"
   ]
  },
  {
   "cell_type": "code",
   "execution_count": null,
   "id": "7dc5b6d9",
   "metadata": {},
   "outputs": [],
   "source": []
  },
  {
   "cell_type": "code",
   "execution_count": null,
   "id": "413c1178",
   "metadata": {},
   "outputs": [],
   "source": []
  }
 ],
 "metadata": {
  "kernelspec": {
   "display_name": "Python 3 (ipykernel)",
   "language": "python",
   "name": "python3"
  },
  "language_info": {
   "codemirror_mode": {
    "name": "ipython",
    "version": 3
   },
   "file_extension": ".py",
   "mimetype": "text/x-python",
   "name": "python",
   "nbconvert_exporter": "python",
   "pygments_lexer": "ipython3",
   "version": "3.11.5"
  }
 },
 "nbformat": 4,
 "nbformat_minor": 5
}
