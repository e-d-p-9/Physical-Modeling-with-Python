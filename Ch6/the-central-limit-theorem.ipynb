{
 "cells": [
  {
   "cell_type": "markdown",
   "metadata": {},
   "source": [
    "# The Central Limit Theorem\n",
    "\n",
    "\n",
    "[But what is the central limit theorem? 3b1b](https://www.youtube.com/watch?v=zeJD6dqJ5lo&t=319s)"
   ]
  },
  {
   "cell_type": "markdown",
   "metadata": {},
   "source": [
    "* [The galton board](https://en.wikipedia.org/wiki/Galton_board)"
   ]
  },
  {
   "cell_type": "markdown",
   "metadata": {},
   "source": []
  }
 ],
 "metadata": {
  "language_info": {
   "name": "python"
  }
 },
 "nbformat": 4,
 "nbformat_minor": 2
}
