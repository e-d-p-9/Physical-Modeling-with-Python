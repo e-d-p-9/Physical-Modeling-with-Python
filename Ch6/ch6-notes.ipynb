{
 "cells": [
  {
   "cell_type": "markdown",
   "metadata": {},
   "source": [
    "# Python for Physical Modeling \n",
    "\n",
    "## Chapter 6 Random Number Generation and Numerical Methods\n",
    "\n",
    "<hr>"
   ]
  },
  {
   "cell_type": "markdown",
   "metadata": {},
   "source": [
    "The previous chapters developed a basic set of techniques for importing, creating, and modeling data sets and visualizing the results.  This chapter introduces additional techniques for exploring mathematical models and their predictions:\n",
    "* Random numbers and Monte Carlo simulations\n",
    "* Solutions of nonlinear equations of a single variable\n",
    "* Solutions of linear systems of equations\n",
    "* Numerical integration of functions\n",
    "* Numerical solution of ordinary differential equations\n",
    "\n",
    "In addition, this chapter introduces several new methods for visualizing data, including histograms, sufface plots, contour plots, vector fields plots, and streamlines.\n",
    "\n",
    "We start with writing your own functions"
   ]
  },
  {
   "cell_type": "markdown",
   "metadata": {},
   "source": [
    "### 6.1 Writing your own functions\n",
    "\n",
    "Section 3.3.5 introudced a principle:  Don't duplicate.  Define once, and reuse often.\n",
    "\n",
    "In the context of parameters (fixed quantities), this means you should define a parameter's value just once at the start of your code and refer to it by name througout the rest of the program.  But code itself can contain duplications if we wish to do the same (or nearly the same) task many times.  Just as with parameter values, you may later realize that something needs to be changed in your code.  Changing every instance of a recurring code fragment can be tedious and prone to error.  It is better to define a function once, then invoke it whenever needed.  You may even use the saem fragment of code inmore than one of your scripts.  If each script imports the same externally defined function, then changes that you make once in the function file will apply to all of your scripts.\n",
    "     Functions in python can do almost anything.  There are entire libraries of functions that can carry out mathematical operations, make plots, read and write files, and much more.  Your own functions can do all of these things as well.  Functions are ideal for writing code once and reusing it often.\n",
    "\n",
    "\n",
    "### 6.1.1 Defining functions in Python\n",
    "\n",
    "A function can be defined at the command prompt or in a file.  The following example is a basic template for creating a function in Python:"
   ]
  },
  {
   "cell_type": "code",
   "execution_count": 1,
   "metadata": {},
   "outputs": [
    {
     "data": {
      "text/plain": [
       "1.1999999999999993"
      ]
     },
     "execution_count": 1,
     "metadata": {},
     "output_type": "execute_result"
    }
   ],
   "source": [
    "# excerpt from measurements.py\n",
    "def taxicab(pointA, pointB):\n",
    "    \"\"\"\n",
    "    Taxicab metric for computing distance between points A and B.\n",
    "        pointA = (x1, y1)\n",
    "        pointB = (x2, y2)\n",
    "    Returns |x2-x1| + |y2-y1|.  Distances are measured in city blocks.\n",
    "    \"\"\"\n",
    "    interval = abs(pointB[0] - pointA[0]) + abs(pointB[1] - pointA[1])\n",
    "    return interval\n",
    "\n",
    "\n",
    "taxicab([2.8, 5.1], [3.3, 4.4])"
   ]
  },
  {
   "cell_type": "code",
   "execution_count": null,
   "metadata": {},
   "outputs": [],
   "source": []
  }
 ],
 "metadata": {
  "kernelspec": {
   "display_name": "base2",
   "language": "python",
   "name": "python3"
  },
  "language_info": {
   "codemirror_mode": {
    "name": "ipython",
    "version": 3
   },
   "file_extension": ".py",
   "mimetype": "text/x-python",
   "name": "python",
   "nbconvert_exporter": "python",
   "pygments_lexer": "ipython3",
   "version": "3.11.5"
  }
 },
 "nbformat": 4,
 "nbformat_minor": 2
}
