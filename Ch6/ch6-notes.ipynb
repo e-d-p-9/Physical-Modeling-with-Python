{
 "cells": [
  {
   "cell_type": "markdown",
   "metadata": {},
   "source": [
    "# Python for Physical Modeling \n",
    "\n",
    "## Chapter 6 Random Number Generation and Numerical Methods\n",
    "\n",
    "<hr>"
   ]
  },
  {
   "cell_type": "markdown",
   "metadata": {},
   "source": [
    "The previous chapters developed a basic set of techniques for importing, creating, and modeling data sets and visualizing the results.  This chapter introduces additional techniques for exploring mathematical models and their predictions:\n",
    "* Random numbers and Monte Carlo simulations\n",
    "* Solutions of nonlinear equations of a single variable\n",
    "* Solutions of linear systems of equations\n",
    "* Numerical integration of functions\n",
    "* Numerical solution of ordinary differential equations\n",
    "\n",
    "In addition, this chapter introduces several new methods for visualizing data, including histograms, sufface plots, contour plots, vector fields plots, and streamlines.\n",
    "\n",
    "We start with writing your own functions"
   ]
  },
  {
   "cell_type": "markdown",
   "metadata": {},
   "source": [
    "### 6.1 Writing your own functions\n",
    "\n",
    "Section 3.3.5 introudced a principle:  Don't duplicate.  Define once, and reuse often.\n",
    "\n",
    "In the context of parameters (fixed quantities), this means you should define a parameter's value just once at the start of your code and refer to it by name througout the rest of the program.  But code itself can contain duplications if we wish to do the same (or nearly the same) task many times.  Just as with parameter values, you may later realize that something needs to be changed in your code.  Changing every instance of a recurring code fragment can be tedious and prone to error.  It is better to define a function once, then invoke it whenever needed.  You may even use the saem fragment of code inmore than one of your scripts.  If each script imports the same externally defined function, then changes that you make once in the function file will apply to all of your scripts.\n",
    "     Functions in python can do almost anything.  There are entire libraries of functions that can carry out mathematical operations, make plots, read and write files, and much more.  Your own functions can do all of these things as well.  Functions are ideal for writing code once and reusing it often.\n",
    "\n",
    "\n",
    "### 6.1.1 Defining functions in Python\n",
    "\n",
    "A function can be defined at the command prompt or in a file.  The following example is a basic template for creating a function in Python:"
   ]
  },
  {
   "cell_type": "code",
   "execution_count": 1,
   "metadata": {},
   "outputs": [
    {
     "data": {
      "text/plain": [
       "1.1999999999999993"
      ]
     },
     "execution_count": 1,
     "metadata": {},
     "output_type": "execute_result"
    }
   ],
   "source": [
    "# excerpt from measurements.py\n",
    "def taxicab(pointA, pointB):\n",
    "    \"\"\"\n",
    "    Taxicab metric for computing distance between points A and B.\n",
    "        pointA = (x1, y1)\n",
    "        pointB = (x2, y2)\n",
    "    Returns |x2-x1| + |y2-y1|.  Distances are measured in city blocks.\n",
    "    \"\"\"\n",
    "    interval = abs(pointB[0] - pointA[0]) + abs(pointB[1] - pointA[1])\n",
    "    return interval\n",
    "\n",
    "\n",
    "taxicab([2.8, 5.1], [3.3, 4.4])"
   ]
  },
  {
   "cell_type": "markdown",
   "metadata": {},
   "source": [
    "The \"taxicab metric\" determines the billable distance between points \"as the cab drives\" rather than \"as the crow flies.\" . (That is, we use the total distance driven rather than the shortest straight line distance between the two points.)\n",
    "    The function consists of the following elements:\n",
    "\n",
    "<b>Declaration:</b>  The keyword ```def``` tells python you are about to define a function.  Function names must adhere to the same rules as variable names.  (See section 1.4.3) . It is wise to give your functions descriptive names.  Remember: You will only have to define it once, but you will wish to reuse it often.  Now is not the time to save typing by giving it a forgettable name like f.\n",
    "\n",
    "<b>Arguments:</b>  The name of the function is followed by the names of all its arguments:  the data it requires to do its calculation.  In this case, taxicab requires two arguments.  If it is called with only one argument or arguments of the wrong type,  Python will raise a TypeError exception.\n",
    "\n",
    "<b>Colon:</b>  The colon after the list of arguments begins an indented block of code associated with the function.  Notice the similarity with for and while loops and if statements.  Everything from the colon to the end of the code block will be executed when the function is called.\n",
    "\n",
    "<b>Docstrings:</b>  The text between the pair of triple-quotes (\"\"\"...\"\"\") is a docstring.  It is a special comment Python will use if someone asks for help on your function, and it is the standard place to describe what the function does and what arguments are required.  Python will not complain if you do not provide a docstring, but someone who uses your code might.\n",
    "\n",
    "<b>Body:</b>  The body of the function is the code that does something useful with the arguments.  This example is a simple function, so its body consists of just two lines.  More complicated functions can include loops, if statements, and calls to other functions, and may extend for many lines.\n",
    "\n",
    "<b>Return:</b>  In Python, a function always returns something to the program that invokes it.  If you do not specify a return value, Python will supply an object called None.  In this example, our function returns a float object.\n",
    "\n",
    "\n",
    "Now, let's look at how a function call works.  Enter the function definition for taxicab at the command prompt.  (You may have to omit the docstring, but only this one time!) Then, type"
   ]
  },
  {
   "cell_type": "code",
   "execution_count": 3,
   "metadata": {},
   "outputs": [
    {
     "name": "stdout",
     "output_type": "stream",
     "text": [
      "Total trip cost:  2.40\n"
     ]
    }
   ],
   "source": [
    "fare_rate = 0.40        # fare rate in dollars per city block\n",
    "start = (1, 2)\n",
    "stop = (4, 5)\n",
    "trip_cost = taxicab(start, stop) * fare_rate\n",
    "print(f\"Total trip cost: {trip_cost: .2f}\")"
   ]
  },
  {
   "cell_type": "markdown",
   "metadata": {},
   "source": [
    "When the fourth line is executed, taxicab behaves like np.sqrt and other predefined functions (Section 1.4.2, page 14):\n",
    "* First, Python assigns the variables in the function's argument list to the objects passed as arguments.  It binds pointA to the same object as start, and pointB to the same object as stop.  (See appendix F for details.)\n",
    "* Then, Python transfers control to taxicab.\n",
    "* When taxicab is finished, Python substitutes the return value into the assignment statement for trip_cost.\n",
    "* Python finishes evaluating the expression and assigns the answer to trip_cost.\n",
    "\n",
    "Although we defined start and stop as tuples in this example, we can call our new function with any objects that understand what thing[0] and thing[1] mean: lists, tuples, or NumPy arrays."
   ]
  },
  {
   "cell_type": "markdown",
   "metadata": {},
   "source": [
    "Your turn 6A:\n",
    "\n",
    "Define a function to compute the straight line distance between two points in three dimensional space.  Give it a descriptive name and an informative docstring.  See what happens when you call it with the wrong number or type of arguments, and ensure that using help on your function will enable a user to diagnose and resolve the issue."
   ]
  },
  {
   "cell_type": "code",
   "execution_count": 7,
   "metadata": {},
   "outputs": [],
   "source": [
    "# define a function to compute the straight line distance between two points in three dimensional space.\n",
    "def dist_between_points_3d(pointA, pointB):\n",
    "    \"\"\"\n",
    "    Computes the distance between two points in three-dimensional space.\n",
    "        pointA: (x1, y1, z1)\n",
    "        pointB: (x2, y2, z2)\n",
    "    Returns |x2 - x1| + |y2 - y1| + |z2 - z1|\n",
    "    \"\"\"\n",
    "    x1, y1, z1 = pointA[0], pointA[1], pointA[2]\n",
    "    x2, y2, z2 = pointB[0], pointB[1], pointB[2]\n",
    "    distance = abs(x2-x1) + abs(y2-y1) + abs(z2-z1)\n",
    "    return distance"
   ]
  },
  {
   "cell_type": "code",
   "execution_count": 10,
   "metadata": {},
   "outputs": [
    {
     "ename": "TypeError",
     "evalue": "dist_between_points_3d() missing 1 required positional argument: 'pointB'",
     "output_type": "error",
     "traceback": [
      "\u001b[0;31m---------------------------------------------------------------------------\u001b[0m",
      "\u001b[0;31mTypeError\u001b[0m                                 Traceback (most recent call last)",
      "\u001b[1;32m/Users/ethan/GitHub_Desktop/Physical-Modeling-with-Python/Ch6/ch6-notes.ipynb Cell 10\u001b[0m line \u001b[0;36m2\n\u001b[1;32m      <a href='vscode-notebook-cell:/Users/ethan/GitHub_Desktop/Physical-Modeling-with-Python/Ch6/ch6-notes.ipynb#X30sZmlsZQ%3D%3D?line=0'>1</a>\u001b[0m \u001b[39m# call function with wrong number of arguments\u001b[39;00m\n\u001b[0;32m----> <a href='vscode-notebook-cell:/Users/ethan/GitHub_Desktop/Physical-Modeling-with-Python/Ch6/ch6-notes.ipynb#X30sZmlsZQ%3D%3D?line=1'>2</a>\u001b[0m incorrect_num_arguments \u001b[39m=\u001b[39m dist_between_points_3d((\u001b[39m1\u001b[39m, \u001b[39m2\u001b[39m, \u001b[39m3\u001b[39m))\n",
      "\u001b[0;31mTypeError\u001b[0m: dist_between_points_3d() missing 1 required positional argument: 'pointB'"
     ]
    }
   ],
   "source": [
    "# call function with wrong number of arguments\n",
    "incorrect_num_arguments = dist_between_points_3d((1, 2, 3))"
   ]
  },
  {
   "cell_type": "code",
   "execution_count": 11,
   "metadata": {},
   "outputs": [
    {
     "ename": "TypeError",
     "evalue": "unsupported operand type(s) for -: 'str' and 'str'",
     "output_type": "error",
     "traceback": [
      "\u001b[0;31m---------------------------------------------------------------------------\u001b[0m",
      "\u001b[0;31mTypeError\u001b[0m                                 Traceback (most recent call last)",
      "\u001b[1;32m/Users/ethan/GitHub_Desktop/Physical-Modeling-with-Python/Ch6/ch6-notes.ipynb Cell 11\u001b[0m line \u001b[0;36m6\n\u001b[1;32m      <a href='vscode-notebook-cell:/Users/ethan/GitHub_Desktop/Physical-Modeling-with-Python/Ch6/ch6-notes.ipynb#X24sZmlsZQ%3D%3D?line=2'>3</a>\u001b[0m pointA_string \u001b[39m=\u001b[39m \u001b[39m\"\u001b[39m\u001b[39m3, 2, 4\u001b[39m\u001b[39m\"\u001b[39m\n\u001b[1;32m      <a href='vscode-notebook-cell:/Users/ethan/GitHub_Desktop/Physical-Modeling-with-Python/Ch6/ch6-notes.ipynb#X24sZmlsZQ%3D%3D?line=3'>4</a>\u001b[0m pointB_string \u001b[39m=\u001b[39m \u001b[39m\"\u001b[39m\u001b[39m1, 2, 3\u001b[39m\u001b[39m\"\u001b[39m\n\u001b[0;32m----> <a href='vscode-notebook-cell:/Users/ethan/GitHub_Desktop/Physical-Modeling-with-Python/Ch6/ch6-notes.ipynb#X24sZmlsZQ%3D%3D?line=5'>6</a>\u001b[0m incorrect_type_string \u001b[39m=\u001b[39m dist_between_points_3d(pointA_string, pointB_string)\n",
      "\u001b[1;32m/Users/ethan/GitHub_Desktop/Physical-Modeling-with-Python/Ch6/ch6-notes.ipynb Cell 11\u001b[0m line \u001b[0;36m1\n\u001b[1;32m      <a href='vscode-notebook-cell:/Users/ethan/GitHub_Desktop/Physical-Modeling-with-Python/Ch6/ch6-notes.ipynb#X24sZmlsZQ%3D%3D?line=8'>9</a>\u001b[0m x1, y1, z1 \u001b[39m=\u001b[39m pointA[\u001b[39m0\u001b[39m], pointA[\u001b[39m1\u001b[39m], pointA[\u001b[39m2\u001b[39m]\n\u001b[1;32m     <a href='vscode-notebook-cell:/Users/ethan/GitHub_Desktop/Physical-Modeling-with-Python/Ch6/ch6-notes.ipynb#X24sZmlsZQ%3D%3D?line=9'>10</a>\u001b[0m x2, y2, z2 \u001b[39m=\u001b[39m pointB[\u001b[39m0\u001b[39m], pointB[\u001b[39m1\u001b[39m], pointB[\u001b[39m2\u001b[39m]\n\u001b[0;32m---> <a href='vscode-notebook-cell:/Users/ethan/GitHub_Desktop/Physical-Modeling-with-Python/Ch6/ch6-notes.ipynb#X24sZmlsZQ%3D%3D?line=10'>11</a>\u001b[0m distance \u001b[39m=\u001b[39m \u001b[39mabs\u001b[39m(x2\u001b[39m-\u001b[39mx1) \u001b[39m+\u001b[39m \u001b[39mabs\u001b[39m(y2\u001b[39m-\u001b[39my1) \u001b[39m+\u001b[39m \u001b[39mabs\u001b[39m(z2\u001b[39m-\u001b[39mz1)\n\u001b[1;32m     <a href='vscode-notebook-cell:/Users/ethan/GitHub_Desktop/Physical-Modeling-with-Python/Ch6/ch6-notes.ipynb#X24sZmlsZQ%3D%3D?line=11'>12</a>\u001b[0m \u001b[39mreturn\u001b[39;00m distance\n",
      "\u001b[0;31mTypeError\u001b[0m: unsupported operand type(s) for -: 'str' and 'str'"
     ]
    }
   ],
   "source": [
    "# call function with wrong type of arguments\n",
    "\n",
    "pointA_string = \"3, 2, 4\"\n",
    "pointB_string = \"1, 2, 3\"\n",
    "\n",
    "incorrect_type_string = dist_between_points_3d(pointA_string, pointB_string)"
   ]
  },
  {
   "cell_type": "code",
   "execution_count": 5,
   "metadata": {},
   "outputs": [
    {
     "name": "stdout",
     "output_type": "stream",
     "text": [
      "Help on function dist_between_points_3d in module __main__:\n",
      "\n",
      "dist_between_points_3d(pointA, pointB)\n",
      "    Computes the distance between two points in three-dimensional space.\n",
      "        pointA: (x1, y1, z1)\n",
      "        pointB: (x2, y2, z2)\n",
      "    Returns |x2 - x1| + |y2 - y1| + |z2 - z1|\n",
      "\n"
     ]
    }
   ],
   "source": [
    "help(dist_between_points_3d)"
   ]
  },
  {
   "cell_type": "markdown",
   "metadata": {},
   "source": [
    "In some ways, a function is similar to a script.  It is a fragment of code that is executed upon request.  Unlike a script, a function is a Python object.  It can be called by name (once it is defined or imported), and it can be called by another script or function.  A function communicates with the calling program by way of its arguments and its return value.  After evaluating the functions, Python discards all of the function's local variables, so remember:\n",
    "\n",
    "If a function performs a calculation, ```return``` the result.\n",
    "\n",
    "You can define functions at the IPython command prompt.  However, if you plan to use a function more than once, you should save it in a file.  You can place a single function in its own file such as taxicab.py and run this file as a script prior to using the function.  (Running the file will define the function as if it had been entered at the command prompt.) . You can also define a function within the script that uses it, as long as its definition gets executed before the function is first called.\n",
    "If you will be using the same functions in multiple scripts and interactive sessions, you can create a module in which you define one or more functions in a single .py file.  A module is a script that contains a collection of definitions and assignments.  It can be imported into your session from the command prompt, or by placing an ```import``` command within a script.  You can also import selectively, as described in Section 1.3.\n",
    "Place taxicab and the function you wrote in Your Turn 6A (called, for example, crow) in a single file called measurements.py in your working directory.  Then, type ```import measurements``` you now have access to both functions under the names measurements.taxicab and measurements.crow.\n",
    "Type help(measurements) and help(measurements.taxicab) to see how Python uses the docstrings you provide.  Note that if you give a module the same name as a function it contains, you still have to provide both the module and function name to Python.  For example, if you save the taxicab function in a file called taxicab.py and then import taxicab, calling taxicab(A,B) will result in an error.  To access the function, you must use taxicab.taxicab(A,B).\n",
    "Modules that you write and wish to use should be located in the same folder as your main script, which is probably the global working directory you specified during setup.  (See sections 4.1.1 and A.2)"
   ]
  },
  {
   "cell_type": "code",
   "execution_count": 12,
   "metadata": {},
   "outputs": [],
   "source": [
    "import measurements as msr"
   ]
  },
  {
   "cell_type": "code",
   "execution_count": 13,
   "metadata": {},
   "outputs": [
    {
     "name": "stdout",
     "output_type": "stream",
     "text": [
      "Help on module measurements:\n",
      "\n",
      "NAME\n",
      "    measurements\n",
      "\n",
      "FUNCTIONS\n",
      "    dist_between_points_3d(pointA, pointB)\n",
      "        Computes the distance between two points in three-dimensional space.\n",
      "            pointA: (x1, y1, z1)\n",
      "            pointB: (x2, y2, z2)\n",
      "        Returns |x2 - x1| + |y2 - y1| + |z2 - z1|\n",
      "    \n",
      "    taxicab(pointA, pointB)\n",
      "        Taxicab metric for computing distance between points A and B.\n",
      "            pointA = (x1, y1)\n",
      "            pointB = (x2, y2)\n",
      "        Returns |x2-x1| + |y2-y1|.  Distances are measured in city blocks.\n",
      "\n",
      "FILE\n",
      "    /Users/ethan/GitHub_Desktop/Physical-Modeling-with-Python/Ch6/measurements.py\n",
      "\n",
      "\n"
     ]
    }
   ],
   "source": [
    "help(msr)"
   ]
  },
  {
   "cell_type": "code",
   "execution_count": 14,
   "metadata": {},
   "outputs": [
    {
     "name": "stdout",
     "output_type": "stream",
     "text": [
      "Help on function taxicab in module measurements:\n",
      "\n",
      "taxicab(pointA, pointB)\n",
      "    Taxicab metric for computing distance between points A and B.\n",
      "        pointA = (x1, y1)\n",
      "        pointB = (x2, y2)\n",
      "    Returns |x2-x1| + |y2-y1|.  Distances are measured in city blocks.\n",
      "\n"
     ]
    }
   ],
   "source": [
    "help(msr.taxicab)"
   ]
  },
  {
   "cell_type": "code",
   "execution_count": 15,
   "metadata": {},
   "outputs": [
    {
     "data": {
      "text/plain": [
       "17.3"
      ]
     },
     "execution_count": 15,
     "metadata": {},
     "output_type": "execute_result"
    }
   ],
   "source": [
    "msr.taxicab([0.5, 0.9], [8.8, 9.9])"
   ]
  },
  {
   "cell_type": "code",
   "execution_count": 16,
   "metadata": {},
   "outputs": [
    {
     "data": {
      "text/plain": [
       "3"
      ]
     },
     "execution_count": 16,
     "metadata": {},
     "output_type": "execute_result"
    }
   ],
   "source": [
    "msr.dist_between_points_3d((1, 1, 1), (2, 2, 2))"
   ]
  },
  {
   "cell_type": "markdown",
   "metadata": {},
   "source": [
    "### 6.1.2 Updating functions\n",
    "\n",
    "If you have modified a function in a script or in a module that you created, you will need to instruct python to use the newest versions.  If the function is defined in a script, you can run the script again by using the run button inspyder or the %run command.\n",
    "If your function is part of a module that you have imported, you may need to restart the IPython kernel or releanch Spyder for the changes to take effect.  Just typing import my_module again will not update the module --even after calling %reset.  Alternatively, you can use a function called reload to update any module without restarting.  This function is part of the importlib module.  To access the reload function, type"
   ]
  },
  {
   "cell_type": "code",
   "execution_count": 17,
   "metadata": {},
   "outputs": [],
   "source": [
    "from importlib import reload"
   ]
  },
  {
   "cell_type": "markdown",
   "metadata": {},
   "source": [
    "For example, if you modify the taxicab function's code in measurements.py after importing measurements as a module, you need to save the file and then type the following command:"
   ]
  },
  {
   "cell_type": "code",
   "execution_count": 26,
   "metadata": {},
   "outputs": [
    {
     "data": {
      "text/plain": [
       "<module 'measurements' from '/Users/ethan/GitHub_Desktop/Physical-Modeling-with-Python/Ch6/measurements.py'>"
      ]
     },
     "execution_count": 26,
     "metadata": {},
     "output_type": "execute_result"
    }
   ],
   "source": [
    "reload(msr)"
   ]
  },
  {
   "cell_type": "markdown",
   "metadata": {},
   "source": [
    "After, calling import will only cause python to load a module if it has not already been imported.else\n",
    "\n",
    "You must save a module and then use reload to update functions in a module you have already imported\n",
    "\n",
    "Reloading a module is usually necessary only in debugging.  Once your functions are working properly, you need only import them once in a script or interactive session."
   ]
  },
  {
   "cell_type": "markdown",
   "metadata": {},
   "source": [
    "### 6.1.3 Arguments, keywords, and defaults\n",
    "\n",
    "We have already seen that keyword arguments can modify the behavior of functions like plt.plot.  You can also use keywords and give arguments default values in functions you write.  The following example demonstrates both of these techniques:"
   ]
  },
  {
   "cell_type": "code",
   "execution_count": 25,
   "metadata": {},
   "outputs": [],
   "source": [
    "# excerpt from measurements.py\n",
    "import numpy as np\n",
    "def distance(pointA, pointB=(0, 0), metric='taxi'):\n",
    "    \"\"\"\n",
    "    Return distance in city blocks between points A, and B.\n",
    "    If metric is 'taxi' (or omitted), use taxicab metric.\n",
    "    Otherwise, use Euclidean distance\n",
    "        pointA = (x1, y1)\n",
    "        pointB = (x2, y2)\n",
    "    If pointB is omitted, use the origin.\n",
    "    \"\"\"\n",
    "    if metric == 'taxi':\n",
    "        interval = abs(pointB[0] - pointA[0]) + abs(pointB[1] - pointA[1])\n",
    "    else:\n",
    "        interval = np.sqrt( (pointB[0] - pointA[0])**2 \\\n",
    "                            + (pointB[1] - pointA[1])**2 )\n",
    "    \n",
    "    return interval"
   ]
  },
  {
   "cell_type": "markdown",
   "metadata": {},
   "source": [
    "The distance function decides how to calculate the distance between points based on the value of metric.  Both pointB and metric have default values.  If values for these arguments are passed to the function, it will use them; if not, it will use the defaults.  Run the script measurements.py, then try\n",
    "\n",
    "\n",
    "distance( (3, 4) )\n",
    "\n",
    "\n",
    "distance( (3, 4), (1, 2), 'euclid' )\n",
    "\n",
    "\n",
    "distance( (3, 4), 'euclid' ) .  # this is an error\n",
    "\n",
    "\n",
    "distance( pointB=(1, 2), metric='normal', pointA=(3, 4) )"
   ]
  },
  {
   "cell_type": "code",
   "execution_count": 32,
   "metadata": {},
   "outputs": [
    {
     "data": {
      "text/plain": [
       "<module 'measurements' from '/Users/ethan/GitHub_Desktop/Physical-Modeling-with-Python/Ch6/measurements.py'>"
      ]
     },
     "execution_count": 32,
     "metadata": {},
     "output_type": "execute_result"
    }
   ],
   "source": [
    "reload(msr)"
   ]
  },
  {
   "cell_type": "code",
   "execution_count": 33,
   "metadata": {},
   "outputs": [
    {
     "data": {
      "text/plain": [
       "7"
      ]
     },
     "execution_count": 33,
     "metadata": {},
     "output_type": "execute_result"
    }
   ],
   "source": [
    "msr.distance( (3, 4) )"
   ]
  },
  {
   "cell_type": "code",
   "execution_count": 34,
   "metadata": {},
   "outputs": [
    {
     "data": {
      "text/plain": [
       "2.8284271247461903"
      ]
     },
     "execution_count": 34,
     "metadata": {},
     "output_type": "execute_result"
    }
   ],
   "source": [
    "distance( (3, 4), (1, 2), 'euclid' )"
   ]
  },
  {
   "cell_type": "code",
   "execution_count": 35,
   "metadata": {},
   "outputs": [
    {
     "ename": "TypeError",
     "evalue": "unsupported operand type(s) for -: 'str' and 'int'",
     "output_type": "error",
     "traceback": [
      "\u001b[0;31m---------------------------------------------------------------------------\u001b[0m",
      "\u001b[0;31mTypeError\u001b[0m                                 Traceback (most recent call last)",
      "\u001b[1;32m/Users/ethan/GitHub_Desktop/Physical-Modeling-with-Python/Ch6/ch6-notes.ipynb Cell 30\u001b[0m line \u001b[0;36m1\n\u001b[0;32m----> <a href='vscode-notebook-cell:/Users/ethan/GitHub_Desktop/Physical-Modeling-with-Python/Ch6/ch6-notes.ipynb#Y102sZmlsZQ%3D%3D?line=0'>1</a>\u001b[0m distance( (\u001b[39m3\u001b[39m, \u001b[39m4\u001b[39m), \u001b[39m'\u001b[39m\u001b[39meuclid\u001b[39m\u001b[39m'\u001b[39m )\n",
      "\u001b[1;32m/Users/ethan/GitHub_Desktop/Physical-Modeling-with-Python/Ch6/ch6-notes.ipynb Cell 30\u001b[0m line \u001b[0;36m1\n\u001b[1;32m      <a href='vscode-notebook-cell:/Users/ethan/GitHub_Desktop/Physical-Modeling-with-Python/Ch6/ch6-notes.ipynb#Y102sZmlsZQ%3D%3D?line=3'>4</a>\u001b[0m \u001b[39m\u001b[39m\u001b[39m\"\"\"\u001b[39;00m\n\u001b[1;32m      <a href='vscode-notebook-cell:/Users/ethan/GitHub_Desktop/Physical-Modeling-with-Python/Ch6/ch6-notes.ipynb#Y102sZmlsZQ%3D%3D?line=4'>5</a>\u001b[0m \u001b[39mReturn distance in city blocks between points A, and B.\u001b[39;00m\n\u001b[1;32m      <a href='vscode-notebook-cell:/Users/ethan/GitHub_Desktop/Physical-Modeling-with-Python/Ch6/ch6-notes.ipynb#Y102sZmlsZQ%3D%3D?line=5'>6</a>\u001b[0m \u001b[39mIf metric is 'taxi' (or omitted), use taxicab metric.\u001b[39;00m\n\u001b[0;32m   (...)\u001b[0m\n\u001b[1;32m     <a href='vscode-notebook-cell:/Users/ethan/GitHub_Desktop/Physical-Modeling-with-Python/Ch6/ch6-notes.ipynb#Y102sZmlsZQ%3D%3D?line=9'>10</a>\u001b[0m \u001b[39mIf pointB is omitted, use the origin.\u001b[39;00m\n\u001b[1;32m     <a href='vscode-notebook-cell:/Users/ethan/GitHub_Desktop/Physical-Modeling-with-Python/Ch6/ch6-notes.ipynb#Y102sZmlsZQ%3D%3D?line=10'>11</a>\u001b[0m \u001b[39m\"\"\"\u001b[39;00m\n\u001b[1;32m     <a href='vscode-notebook-cell:/Users/ethan/GitHub_Desktop/Physical-Modeling-with-Python/Ch6/ch6-notes.ipynb#Y102sZmlsZQ%3D%3D?line=11'>12</a>\u001b[0m \u001b[39mif\u001b[39;00m metric \u001b[39m==\u001b[39m \u001b[39m'\u001b[39m\u001b[39mtaxi\u001b[39m\u001b[39m'\u001b[39m:\n\u001b[0;32m---> <a href='vscode-notebook-cell:/Users/ethan/GitHub_Desktop/Physical-Modeling-with-Python/Ch6/ch6-notes.ipynb#Y102sZmlsZQ%3D%3D?line=12'>13</a>\u001b[0m     interval \u001b[39m=\u001b[39m \u001b[39mabs\u001b[39m(pointB[\u001b[39m0\u001b[39m] \u001b[39m-\u001b[39m pointA[\u001b[39m0\u001b[39m]) \u001b[39m+\u001b[39m \u001b[39mabs\u001b[39m(pointB[\u001b[39m1\u001b[39m] \u001b[39m-\u001b[39m pointA[\u001b[39m1\u001b[39m])\n\u001b[1;32m     <a href='vscode-notebook-cell:/Users/ethan/GitHub_Desktop/Physical-Modeling-with-Python/Ch6/ch6-notes.ipynb#Y102sZmlsZQ%3D%3D?line=13'>14</a>\u001b[0m \u001b[39melse\u001b[39;00m:\n\u001b[1;32m     <a href='vscode-notebook-cell:/Users/ethan/GitHub_Desktop/Physical-Modeling-with-Python/Ch6/ch6-notes.ipynb#Y102sZmlsZQ%3D%3D?line=14'>15</a>\u001b[0m     interval \u001b[39m=\u001b[39m np\u001b[39m.\u001b[39msqrt( (pointB[\u001b[39m0\u001b[39m] \u001b[39m-\u001b[39m pointA[\u001b[39m0\u001b[39m])\u001b[39m*\u001b[39m\u001b[39m*\u001b[39m\u001b[39m2\u001b[39m \\\n\u001b[1;32m     <a href='vscode-notebook-cell:/Users/ethan/GitHub_Desktop/Physical-Modeling-with-Python/Ch6/ch6-notes.ipynb#Y102sZmlsZQ%3D%3D?line=15'>16</a>\u001b[0m                         \u001b[39m+\u001b[39m (pointB[\u001b[39m1\u001b[39m] \u001b[39m-\u001b[39m pointA[\u001b[39m1\u001b[39m])\u001b[39m*\u001b[39m\u001b[39m*\u001b[39m\u001b[39m2\u001b[39m )\n",
      "\u001b[0;31mTypeError\u001b[0m: unsupported operand type(s) for -: 'str' and 'int'"
     ]
    }
   ],
   "source": [
    "distance( (3, 4), 'euclid' )        # this is an error"
   ]
  },
  {
   "cell_type": "code",
   "execution_count": 36,
   "metadata": {},
   "outputs": [
    {
     "data": {
      "text/plain": [
       "2.8284271247461903"
      ]
     },
     "execution_count": 36,
     "metadata": {},
     "output_type": "execute_result"
    }
   ],
   "source": [
    "distance( pointB=(1, 2), metric='normal', pointA=(3, 4) )"
   ]
  },
  {
   "cell_type": "markdown",
   "metadata": {},
   "source": [
    "The arguments to a function must either be in the correct order according to the function definition, as in the first two lines of this example, or be paried with a keyword, as in the last line.  The third line results in an error because Python assigns the string literal 'euclid', appearing here as a positional argument, to the variable pointB."
   ]
  },
  {
   "cell_type": "markdown",
   "metadata": {},
   "source": [
    "### 6.1.4 Return values\n",
    "\n",
    "A function can take any type or number of arguments -- or none at all.  The return value of a function is a single object, but that object may be a number, an array, a string, or a collection of objects in a tuple or list.  A function will return an object called None if no other return value is specified.\n",
    "Suppose that you wish to write a function to rotate a two-dimensional vector.  What should the arguments be?  What should the function return?\n",
    "The arguments should include the vector to be rotated and an angle of rotation.  The function should return the rotated vector.  Here is a function that will accomplish the task:"
   ]
  },
  {
   "cell_type": "code",
   "execution_count": 37,
   "metadata": {},
   "outputs": [],
   "source": [
    "# rotate.py\n",
    "def rotate_vector(vector, angle):\n",
    "    \"\"\"\n",
    "    Rotate a two-dimensional vector through given angle.\n",
    "        vector = (x, y)\n",
    "        angle = rotation angle in radians (counterclockwise)\n",
    "    Returns the image of a vector under rotation as a numpy array.\n",
    "    \"\"\"\n",
    "    rotation_matrix = np.array([[ np.cos(angle), -np.sin(angle) ],\n",
    "                                [ np.sin(angle), np.cos(angle)]])\n",
    "    return np.dot(rotation_matrix, vector)"
   ]
  },
  {
   "cell_type": "markdown",
   "metadata": {},
   "source": [
    "This implementation of rotation creates a 2x2 matrix and then multiplies this matrix and the vector supplied as the first argument.  The function does not modify the contents of vector.  Instead, np.dot creates a new array, which is returned by the function.\n",
    "Python allows you to unpack compound return values, that is, to assign the individual elements of an object to separate variables.  Multiple assignments on a single line, such as x, y=(1,2), are a simple example of unpacking.  Python can unpack any iterable object: a tuple, a list, a string, or an array.\n",
    "There are several ways to unpack an object.  The following calls to rotate_vector all work, but the components of the rotated vector are split up in different ways:"
   ]
  },
  {
   "cell_type": "code",
   "execution_count": 38,
   "metadata": {},
   "outputs": [],
   "source": [
    "vec = [1, 1]\n",
    "theta = np.pi/2\n",
    "r = rotate_vector(vec, theta)\n",
    "x, y = rotate_vector(vec, theta)\n",
    "_, z = rotate_vector(vec, theta)\n",
    "first, *rest = rotate_vector(vec, theta)"
   ]
  },
  {
   "cell_type": "code",
   "execution_count": 42,
   "metadata": {},
   "outputs": [
    {
     "name": "stdout",
     "output_type": "stream",
     "text": [
      "r: [-1.  1.]\n",
      "x, y: (-0.9999999999999999, 1.0)\n",
      "z: 1.0\n",
      "first: -0.9999999999999999\n",
      "rest: [1.0]\n"
     ]
    }
   ],
   "source": [
    "print(f\"r: {r}\")\n",
    "print(f\"x, y: {x, y}\")\n",
    "print(f\"z: {z}\")\n",
    "print(f\"first: {first}\")\n",
    "print(f\"rest: {rest}\")"
   ]
  },
  {
   "cell_type": "markdown",
   "metadata": {},
   "source": [
    "After executing these commands, you should find that r is a NumPy array with two elements.  The other variables, x, y, and z, contain individual components of the rotated vector.  The underscore, _, is a dummy variable whose value is discarded.  (Underscore is a special variable, whose value is the result of the most recent command.  We are using it to temporarily store a value that we do not need.) . After the final line of this example, first contains the first element of the rotated vector and rest is a list that contains everything else.  In this case, rest contains only one element, but if the function returned an array with 100 elements, first would still contain only the first value and rest would be a list (not a NumPy array) containing the other 99 elements.  You could convert it to an array with np.array(rest).\n",
    "In addition to unpacking, you can also index or slice the return value of a function.  For example, if you only need the second element of the rotated vector, you could type"
   ]
  },
  {
   "cell_type": "code",
   "execution_count": 43,
   "metadata": {},
   "outputs": [
    {
     "data": {
      "text/plain": [
       "1.0"
      ]
     },
     "execution_count": 43,
     "metadata": {},
     "output_type": "execute_result"
    }
   ],
   "source": [
    "w = rotate_vector(vec, theta)[1]\n",
    "w"
   ]
  },
  {
   "cell_type": "markdown",
   "metadata": {},
   "source": [
    "When evaluating this and similar expressions, Python first evaluates the function, then substitutes its return value in place of the function call."
   ]
  },
  {
   "cell_type": "markdown",
   "metadata": {},
   "source": [
    "### 6.1.5 Functional programming\n",
    "\n",
    "Python offers programmers great flexibility in writing functions.  We discuss some of these nuances in Appendix F. However, we strongly endorse the following guidelines for writing your own functions:\n",
    "\n",
    "1. Pass data to a function only through its arguments.\n",
    "2. Do not modify the arguments of a function\n",
    "3. Return the result of a calculation with a ```return``` statement.\n",
    "\n",
    "Python allows you to circumvent all of these conventions, but your code will be easier to write, interpret, and debug if you adhere to them.  Your functions will accept input (arguments) and produce output (a return value), without side effects.\n",
    "A side effect is any effect on the computer's satte other than returning a value.  Avoiding side effects is the cornerstone of functional programming.  Sometimes side effects are useful, but consider the alternatives when writing your own functions.\n",
    "Unintended side effects on arrays can be particularly troublesome.  Python does not automatically create a local copy of an array inside a function.  As a result, a function can modify the data in an array passed as an argument using array methods -- including assignment of individual elements.  (see section 2.2.6, page 26).  Array methods like x.sort() and x.fill(3), as well as in-place arithmetic like x+=1 and x*=2, can also modify array data.  Such side effects have the potential to speed up your code and reduce memory usage for operations on large arrays.  You can overwrite the array and modify its elements without making any copies.  However, this increase in performance comes at the cost of difficulty in debugging.\n",
    "If you really do intend for a function to modify the elements of an array, you can still avoid side effects.  Create a local copy of the array within the function, operate on the copy, and return the new array.  Alternatively, you can create a placeholder array within the function, fill it with values, and return the arrays, with no effect on x.  If you wish, you can replace the original array with the new array returned by the function in the main code, rather than inside the function.\n",
    "The following function illustrates these principles of functional programming:"
   ]
  },
  {
   "cell_type": "code",
   "execution_count": 44,
   "metadata": {},
   "outputs": [],
   "source": [
    "# average.py\n",
    "def running_average(x):\n",
    "    \"\"\"\n",
    "    Return cumulative average of an array.\n",
    "    \"\"\"\n",
    "    y = np.zeros(len(x))                    # new array to store results\n",
    "    current_sum = 0.0                       # running sum of elements on x\n",
    "    for i in range(len(x)):\n",
    "        current_sum += x[i]                 # increment sum\n",
    "        y[i] = current_sum / (i + 1.0)      # update running average\n",
    "    return y"
   ]
  },
  {
   "cell_type": "markdown",
   "metadata": {},
   "source": [
    "The array being processed is passed as an argument.  This array is not modified; the result of the calculation is returned in a new array.\n",
    "If you need the extra performance and reduced memory usage that come from overwritting an array, use the information in Appendix F to plan your code carefully and avoid unintended consequences.  However, try vectorizing your code using NumPy's efficient array operations before you resort to overwriting.\n",
    "Vectorized code will amost always run faster than loops you write yourself in Python."
   ]
  },
  {
   "cell_type": "markdown",
   "metadata": {},
   "source": [
    "### 6.2 Random Numbers and Simulation\n",
    "\n",
    "There are many interesting problems in which we do not have complete knowledge of a system, but we do know the probabilities of the outcomes of simple events.  For example, you know the probability of any given outcome in the roll of a single die is 1/6, but do you know how likely it is that the sum of a roll of five dice is less than 13?  Rather than work out the combinatorics, you could roll five dice many times and determine the probability empirically.\n",
    "A random number generator makes it possible for a computer to \"roll dice\" millions of times per second.  Thus, you can use a random number generator to simulate a system described by a stochastic model in which the probability distributions of the parameters are known.  You can determine the likeyly behavbior of the system, even if you cannot work out the details analytically.  Such calculations are often called \"Monte Carlo simulations.\"\n",
    "\n",
    "### 6.2.1 Simulating coin flips\n",
    "\n",
    "The simplest examples of a stochastic system is a coin flip.  Suppose that you want to simulate flipping a coin 100 times, record the number of heads or tails, and then repeat the whole series of 100 fips N times.  This will generate a set of N numbers, each falling in the range of 0 to 100, inclusive.\n",
    "How do we get Python to flip the coin for us?  First, try typing 1 > 2 a the IPython console prompt, and then 2>1.  You'll see that Python returns a Boolean value of True or False when it evaluates each of these expressions."
   ]
  },
  {
   "cell_type": "code",
   "execution_count": 45,
   "metadata": {},
   "outputs": [
    {
     "data": {
      "text/plain": [
       "False"
      ]
     },
     "execution_count": 45,
     "metadata": {},
     "output_type": "execute_result"
    }
   ],
   "source": [
    "1 > 2"
   ]
  },
  {
   "cell_type": "code",
   "execution_count": 46,
   "metadata": {},
   "outputs": [
    {
     "data": {
      "text/plain": [
       "True"
      ]
     },
     "execution_count": 46,
     "metadata": {},
     "output_type": "execute_result"
    }
   ],
   "source": [
    "2 >1"
   ]
  },
  {
   "cell_type": "markdown",
   "metadata": {},
   "source": [
    "You can simulate a coin flip by generating a uniformly distributed random number between 0 and 1, then checking to see if it is less than 0.5.  If the comparison returns True, we record heads; if False, we record tails.  Python can also use such values in numeric calculations:  It converts True to 1 and False to 0."
   ]
  },
  {
   "cell_type": "code",
   "execution_count": 49,
   "metadata": {},
   "outputs": [
    {
     "data": {
      "text/plain": [
       "0"
      ]
     },
     "execution_count": 49,
     "metadata": {},
     "output_type": "execute_result"
    }
   ],
   "source": [
    "int(False)"
   ]
  },
  {
   "cell_type": "markdown",
   "metadata": {},
   "source": [
    "The module np.random contains random number generators for several probability distributions.  In this chapter, we will only need the \"continuous uniform distribution\" over the interval [0, 1)]"
   ]
  },
  {
   "cell_type": "markdown",
   "metadata": {},
   "source": []
  }
 ],
 "metadata": {
  "kernelspec": {
   "display_name": "base2",
   "language": "python",
   "name": "python3"
  },
  "language_info": {
   "codemirror_mode": {
    "name": "ipython",
    "version": 3
   },
   "file_extension": ".py",
   "mimetype": "text/x-python",
   "name": "python",
   "nbconvert_exporter": "python",
   "pygments_lexer": "ipython3",
   "version": "3.11.5"
  }
 },
 "nbformat": 4,
 "nbformat_minor": 2
}
