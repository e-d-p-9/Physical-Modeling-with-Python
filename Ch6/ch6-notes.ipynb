{
 "cells": [
  {
   "cell_type": "markdown",
   "metadata": {},
   "source": [
    "# Python for Physical Modeling \n",
    "\n",
    "## Chapter 6 Random Number Generation and Numerical Methods\n",
    "\n",
    "<hr>"
   ]
  },
  {
   "cell_type": "markdown",
   "metadata": {},
   "source": [
    "The previous chapters developed a basic set of techniques for importing, creating, and modeling data sets and visualizing the results.  This chapter introduces additional techniques for exploring mathematical models and their predictions:\n",
    "* Random numbers and Monte Carlo simulations\n",
    "* Solutions of nonlinear equations of a single variable\n",
    "* Solutions of linear systems of equations\n",
    "* Numerical integration of functions\n",
    "* Numerical solution of ordinary differential equations\n",
    "\n",
    "In addition, this chapter introduces several new methods for visualizing data, including histograms, sufface plots, contour plots, vector fields plots, and streamlines.\n",
    "\n",
    "We start with writing your own functions"
   ]
  },
  {
   "cell_type": "markdown",
   "metadata": {},
   "source": [
    "### 6.1 Writing your own functions\n",
    "\n",
    "Section 3.3.5 introudced a principle:  Don't duplicate.  Define once, and reuse often.\n",
    "\n",
    "In the context of parameters (fixed quantities), this means you should define a parameter's value just once at the start of your code and refer to it by name througout the rest of the program.  But code itself can contain duplications if we wish to do the same (or nearly the same) task many times.  Just as with parameter values, you may later realize that something needs to be changed in your code.  Changing every instance of a recurring code fragment can be tedious and prone to error.  It is better to define a function once, then invoke it whenever needed.  You may even use the saem fragment of code inmore than one of your scripts.  If each script imports the same externally defined function, then changes that you make once in the function file will apply to all of your scripts.\n",
    "     Functions in python can do almost anything.  There are entire libraries of functions that can carry out mathematical operations, make plots, read and write files, and much more.  Your own functions can do all of these things as well.  Functions are ideal for writing code once and reusing it often.\n",
    "\n",
    "\n",
    "### 6.1.1 Defining functions in Python\n",
    "\n",
    "A function can be defined at the command prompt or in a file.  The following example is a basic template for creating a function in Python:"
   ]
  },
  {
   "cell_type": "code",
   "execution_count": 1,
   "metadata": {},
   "outputs": [
    {
     "data": {
      "text/plain": [
       "1.1999999999999993"
      ]
     },
     "execution_count": 1,
     "metadata": {},
     "output_type": "execute_result"
    }
   ],
   "source": [
    "# excerpt from measurements.py\n",
    "def taxicab(pointA, pointB):\n",
    "    \"\"\"\n",
    "    Taxicab metric for computing distance between points A and B.\n",
    "        pointA = (x1, y1)\n",
    "        pointB = (x2, y2)\n",
    "    Returns |x2-x1| + |y2-y1|.  Distances are measured in city blocks.\n",
    "    \"\"\"\n",
    "    interval = abs(pointB[0] - pointA[0]) + abs(pointB[1] - pointA[1])\n",
    "    return interval\n",
    "\n",
    "\n",
    "taxicab([2.8, 5.1], [3.3, 4.4])"
   ]
  },
  {
   "cell_type": "markdown",
   "metadata": {},
   "source": [
    "The \"taxicab metric\" determines the billable distance between points \"as the cab drives\" rather than \"as the crow flies.\" . (That is, we use the total distance driven rather than the shortest straight line distance between the two points.)\n",
    "    The function consists of the following elements:\n",
    "\n",
    "<b>Declaration:</b>  The keyword ```def``` tells python you are about to define a function.  Function names must adhere to the same rules as variable names.  (See section 1.4.3) . It is wise to give your functions descriptive names.  Remember: You will only have to define it once, but you will wish to reuse it often.  Now is not the time to save typing by giving it a forgettable name like f.\n",
    "\n",
    "<b>Arguments:</b>  The name of the function is followed by the names of all its arguments:  the data it requires to do its calculation.  In this case, taxicab requires two arguments.  If it is called with only one argument or arguments of the wrong type,  Python will raise a TypeError exception.\n",
    "\n",
    "<b>Colon:</b>  The colon after the list of arguments begins an indented block of code associated with the function.  Notice the similarity with for and while loops and if statements.  Everything from the colon to the end of the code block will be executed when the function is called.\n",
    "\n",
    "<b>Docstrings:</b>  The text between the pair of triple-quotes (\"\"\"...\"\"\") is a docstring.  It is a special comment Python will use if someone asks for help on your function, and it is the standard place to describe what the function does and what arguments are required.  Python will not complain if you do not provide a docstring, but someone who uses your code might.\n",
    "\n",
    "<b>Body:</b>  The body of the function is the code that does something useful with the arguments.  This example is a simple function, so its body consists of just two lines.  More complicated functions can include loops, if statements, and calls to other functions, and may extend for many lines.\n",
    "\n",
    "<b>Return:</b>  In Python, a function always returns something to the program that invokes it.  If you do not specify a return value, Python will supply an object called None.  In this example, our function returns a float object.\n",
    "\n",
    "\n",
    "Now, let's look at how a function call works.  Enter the function definition for taxicab at the command prompt.  (You may have to omit the docstring, but only this one time!) Then, type"
   ]
  },
  {
   "cell_type": "code",
   "execution_count": 3,
   "metadata": {},
   "outputs": [
    {
     "name": "stdout",
     "output_type": "stream",
     "text": [
      "Total trip cost:  2.40\n"
     ]
    }
   ],
   "source": [
    "fare_rate = 0.40        # fare rate in dollars per city block\n",
    "start = (1, 2)\n",
    "stop = (4, 5)\n",
    "trip_cost = taxicab(start, stop) * fare_rate\n",
    "print(f\"Total trip cost: {trip_cost: .2f}\")"
   ]
  },
  {
   "cell_type": "markdown",
   "metadata": {},
   "source": [
    "When the fourth line is executed, taxicab behaves like np.sqrt and other predefined functions (Section 1.4.2, page 14):\n",
    "* First, Python assigns the variables in the function's argument list to the objects passed as arguments.  It binds pointA to the same object as start, and pointB to the same object as stop.  (See appendix F for details.)\n",
    "* Then, Python transfers control to taxicab.\n",
    "* When taxicab is finished, Python substitutes the return value into the assignment statement for trip_cost.\n",
    "* Python finishes evaluating the expression and assigns the answer to trip_cost.\n",
    "\n",
    "Although we defined start and stop as tuples in this example, we can call our new function with any objects that understand what thing[0] and thing[1] mean: lists, tuples, or NumPy arrays."
   ]
  },
  {
   "cell_type": "markdown",
   "metadata": {},
   "source": [
    "Your turn 6A:\n",
    "\n",
    "Define a function to compute the straight line distance between two points in three dimensional space.  Give it a descriptive name and an informative docstring.  See what happens when you call it with the wrong number or type of arguments, and ensure that using help on your function will enable a user to diagnose and resolve the issue."
   ]
  },
  {
   "cell_type": "code",
   "execution_count": 7,
   "metadata": {},
   "outputs": [],
   "source": [
    "# define a function to compute the straight line distance between two points in three dimensional space.\n",
    "def dist_between_points_3d(pointA, pointB):\n",
    "    \"\"\"\n",
    "    Computes the distance between two points in three-dimensional space.\n",
    "        pointA: (x1, y1, z1)\n",
    "        pointB: (x2, y2, z2)\n",
    "    Returns |x2 - x1| + |y2 - y1| + |z2 - z1|\n",
    "    \"\"\"\n",
    "    x1, y1, z1 = pointA[0], pointA[1], pointA[2]\n",
    "    x2, y2, z2 = pointB[0], pointB[1], pointB[2]\n",
    "    distance = abs(x2-x1) + abs(y2-y1) + abs(z2-z1)\n",
    "    return distance"
   ]
  },
  {
   "cell_type": "code",
   "execution_count": 10,
   "metadata": {},
   "outputs": [
    {
     "ename": "TypeError",
     "evalue": "dist_between_points_3d() missing 1 required positional argument: 'pointB'",
     "output_type": "error",
     "traceback": [
      "\u001b[0;31m---------------------------------------------------------------------------\u001b[0m",
      "\u001b[0;31mTypeError\u001b[0m                                 Traceback (most recent call last)",
      "\u001b[1;32m/Users/ethan/GitHub_Desktop/Physical-Modeling-with-Python/Ch6/ch6-notes.ipynb Cell 10\u001b[0m line \u001b[0;36m2\n\u001b[1;32m      <a href='vscode-notebook-cell:/Users/ethan/GitHub_Desktop/Physical-Modeling-with-Python/Ch6/ch6-notes.ipynb#X30sZmlsZQ%3D%3D?line=0'>1</a>\u001b[0m \u001b[39m# call function with wrong number of arguments\u001b[39;00m\n\u001b[0;32m----> <a href='vscode-notebook-cell:/Users/ethan/GitHub_Desktop/Physical-Modeling-with-Python/Ch6/ch6-notes.ipynb#X30sZmlsZQ%3D%3D?line=1'>2</a>\u001b[0m incorrect_num_arguments \u001b[39m=\u001b[39m dist_between_points_3d((\u001b[39m1\u001b[39m, \u001b[39m2\u001b[39m, \u001b[39m3\u001b[39m))\n",
      "\u001b[0;31mTypeError\u001b[0m: dist_between_points_3d() missing 1 required positional argument: 'pointB'"
     ]
    }
   ],
   "source": [
    "# call function with wrong number of arguments\n",
    "incorrect_num_arguments = dist_between_points_3d((1, 2, 3))"
   ]
  },
  {
   "cell_type": "code",
   "execution_count": 11,
   "metadata": {},
   "outputs": [
    {
     "ename": "TypeError",
     "evalue": "unsupported operand type(s) for -: 'str' and 'str'",
     "output_type": "error",
     "traceback": [
      "\u001b[0;31m---------------------------------------------------------------------------\u001b[0m",
      "\u001b[0;31mTypeError\u001b[0m                                 Traceback (most recent call last)",
      "\u001b[1;32m/Users/ethan/GitHub_Desktop/Physical-Modeling-with-Python/Ch6/ch6-notes.ipynb Cell 11\u001b[0m line \u001b[0;36m6\n\u001b[1;32m      <a href='vscode-notebook-cell:/Users/ethan/GitHub_Desktop/Physical-Modeling-with-Python/Ch6/ch6-notes.ipynb#X24sZmlsZQ%3D%3D?line=2'>3</a>\u001b[0m pointA_string \u001b[39m=\u001b[39m \u001b[39m\"\u001b[39m\u001b[39m3, 2, 4\u001b[39m\u001b[39m\"\u001b[39m\n\u001b[1;32m      <a href='vscode-notebook-cell:/Users/ethan/GitHub_Desktop/Physical-Modeling-with-Python/Ch6/ch6-notes.ipynb#X24sZmlsZQ%3D%3D?line=3'>4</a>\u001b[0m pointB_string \u001b[39m=\u001b[39m \u001b[39m\"\u001b[39m\u001b[39m1, 2, 3\u001b[39m\u001b[39m\"\u001b[39m\n\u001b[0;32m----> <a href='vscode-notebook-cell:/Users/ethan/GitHub_Desktop/Physical-Modeling-with-Python/Ch6/ch6-notes.ipynb#X24sZmlsZQ%3D%3D?line=5'>6</a>\u001b[0m incorrect_type_string \u001b[39m=\u001b[39m dist_between_points_3d(pointA_string, pointB_string)\n",
      "\u001b[1;32m/Users/ethan/GitHub_Desktop/Physical-Modeling-with-Python/Ch6/ch6-notes.ipynb Cell 11\u001b[0m line \u001b[0;36m1\n\u001b[1;32m      <a href='vscode-notebook-cell:/Users/ethan/GitHub_Desktop/Physical-Modeling-with-Python/Ch6/ch6-notes.ipynb#X24sZmlsZQ%3D%3D?line=8'>9</a>\u001b[0m x1, y1, z1 \u001b[39m=\u001b[39m pointA[\u001b[39m0\u001b[39m], pointA[\u001b[39m1\u001b[39m], pointA[\u001b[39m2\u001b[39m]\n\u001b[1;32m     <a href='vscode-notebook-cell:/Users/ethan/GitHub_Desktop/Physical-Modeling-with-Python/Ch6/ch6-notes.ipynb#X24sZmlsZQ%3D%3D?line=9'>10</a>\u001b[0m x2, y2, z2 \u001b[39m=\u001b[39m pointB[\u001b[39m0\u001b[39m], pointB[\u001b[39m1\u001b[39m], pointB[\u001b[39m2\u001b[39m]\n\u001b[0;32m---> <a href='vscode-notebook-cell:/Users/ethan/GitHub_Desktop/Physical-Modeling-with-Python/Ch6/ch6-notes.ipynb#X24sZmlsZQ%3D%3D?line=10'>11</a>\u001b[0m distance \u001b[39m=\u001b[39m \u001b[39mabs\u001b[39m(x2\u001b[39m-\u001b[39mx1) \u001b[39m+\u001b[39m \u001b[39mabs\u001b[39m(y2\u001b[39m-\u001b[39my1) \u001b[39m+\u001b[39m \u001b[39mabs\u001b[39m(z2\u001b[39m-\u001b[39mz1)\n\u001b[1;32m     <a href='vscode-notebook-cell:/Users/ethan/GitHub_Desktop/Physical-Modeling-with-Python/Ch6/ch6-notes.ipynb#X24sZmlsZQ%3D%3D?line=11'>12</a>\u001b[0m \u001b[39mreturn\u001b[39;00m distance\n",
      "\u001b[0;31mTypeError\u001b[0m: unsupported operand type(s) for -: 'str' and 'str'"
     ]
    }
   ],
   "source": [
    "# call function with wrong type of arguments\n",
    "\n",
    "pointA_string = \"3, 2, 4\"\n",
    "pointB_string = \"1, 2, 3\"\n",
    "\n",
    "incorrect_type_string = dist_between_points_3d(pointA_string, pointB_string)"
   ]
  },
  {
   "cell_type": "code",
   "execution_count": 5,
   "metadata": {},
   "outputs": [
    {
     "name": "stdout",
     "output_type": "stream",
     "text": [
      "Help on function dist_between_points_3d in module __main__:\n",
      "\n",
      "dist_between_points_3d(pointA, pointB)\n",
      "    Computes the distance between two points in three-dimensional space.\n",
      "        pointA: (x1, y1, z1)\n",
      "        pointB: (x2, y2, z2)\n",
      "    Returns |x2 - x1| + |y2 - y1| + |z2 - z1|\n",
      "\n"
     ]
    }
   ],
   "source": [
    "help(dist_between_points_3d)"
   ]
  },
  {
   "cell_type": "markdown",
   "metadata": {},
   "source": [
    "In some ways, a function is similar to a script.  It is a fragment of code that is executed upon request.  Unlike a script, a function is a Python object.  It can be called by name (once it is defined or imported), and it can be called by another script or function.  A function communicates with the calling program by way of its arguments and its return value.  After evaluating the functions, Python discards all of the function's local variables, so remember:\n",
    "\n",
    "If a function performs a calculation, ```return``` the result.\n",
    "\n",
    "You can define functions at the IPython command prompt.  However, if you plan to use a function more than once, you should save it in a file.  You can place a single function in its own file such as taxicab.py and run this file as a script prior to using the function.  (Running the file will define the function as if it had been entered at the command prompt.) . You can also define a function within the script that uses it, as long as its definition gets executed before the function is first called.\n",
    "If you will be using the same functions in multiple scripts and interactive sessions, you can create a module in which you define one or more functions in a single .py file.  A module is a script that contains a collection of definitions and assignments.  It can be imported into your session from the command prompt, or by placing an ```import``` command within a script.  You can also import selectively, as described in Section 1.3.\n",
    "Place taxicab and the function you wrote in Your Turn 6A (called, for example, crow) in a single file called measurements.py in your working directory.  Then, type ```import measurements``` you now have access to both functions under the names measurements.taxicab and measurements.crow.\n",
    "Type help(measurements) and help(measurements.taxicab) to see how Python uses the docstrings you provide.  Note that if you give a module the same name as a function it contains, you still have to provide both the module and function name to Python.  For example, if you save the taxicab function in a file called taxicab.py and then import taxicab, calling taxicab(A,B) will result in an error.  To access the function, you must use taxicab.taxicab(A,B).\n",
    "Modules that you write and wish to use should be located in the same folder as your main script, which is probably the global working directory you specified during setup.  (See sections 4.1.1 and A.2)"
   ]
  },
  {
   "cell_type": "code",
   "execution_count": 12,
   "metadata": {},
   "outputs": [],
   "source": [
    "import measurements as msr"
   ]
  },
  {
   "cell_type": "code",
   "execution_count": 13,
   "metadata": {},
   "outputs": [
    {
     "name": "stdout",
     "output_type": "stream",
     "text": [
      "Help on module measurements:\n",
      "\n",
      "NAME\n",
      "    measurements\n",
      "\n",
      "FUNCTIONS\n",
      "    dist_between_points_3d(pointA, pointB)\n",
      "        Computes the distance between two points in three-dimensional space.\n",
      "            pointA: (x1, y1, z1)\n",
      "            pointB: (x2, y2, z2)\n",
      "        Returns |x2 - x1| + |y2 - y1| + |z2 - z1|\n",
      "    \n",
      "    taxicab(pointA, pointB)\n",
      "        Taxicab metric for computing distance between points A and B.\n",
      "            pointA = (x1, y1)\n",
      "            pointB = (x2, y2)\n",
      "        Returns |x2-x1| + |y2-y1|.  Distances are measured in city blocks.\n",
      "\n",
      "FILE\n",
      "    /Users/ethan/GitHub_Desktop/Physical-Modeling-with-Python/Ch6/measurements.py\n",
      "\n",
      "\n"
     ]
    }
   ],
   "source": [
    "help(msr)"
   ]
  },
  {
   "cell_type": "code",
   "execution_count": 14,
   "metadata": {},
   "outputs": [
    {
     "name": "stdout",
     "output_type": "stream",
     "text": [
      "Help on function taxicab in module measurements:\n",
      "\n",
      "taxicab(pointA, pointB)\n",
      "    Taxicab metric for computing distance between points A and B.\n",
      "        pointA = (x1, y1)\n",
      "        pointB = (x2, y2)\n",
      "    Returns |x2-x1| + |y2-y1|.  Distances are measured in city blocks.\n",
      "\n"
     ]
    }
   ],
   "source": [
    "help(msr.taxicab)"
   ]
  },
  {
   "cell_type": "code",
   "execution_count": 15,
   "metadata": {},
   "outputs": [
    {
     "data": {
      "text/plain": [
       "17.3"
      ]
     },
     "execution_count": 15,
     "metadata": {},
     "output_type": "execute_result"
    }
   ],
   "source": [
    "msr.taxicab([0.5, 0.9], [8.8, 9.9])"
   ]
  },
  {
   "cell_type": "code",
   "execution_count": 16,
   "metadata": {},
   "outputs": [
    {
     "data": {
      "text/plain": [
       "3"
      ]
     },
     "execution_count": 16,
     "metadata": {},
     "output_type": "execute_result"
    }
   ],
   "source": [
    "msr.dist_between_points_3d((1, 1, 1), (2, 2, 2))"
   ]
  },
  {
   "cell_type": "markdown",
   "metadata": {},
   "source": [
    "### 6.1.2 Updating functions"
   ]
  },
  {
   "cell_type": "markdown",
   "metadata": {},
   "source": []
  }
 ],
 "metadata": {
  "kernelspec": {
   "display_name": "base2",
   "language": "python",
   "name": "python3"
  },
  "language_info": {
   "codemirror_mode": {
    "name": "ipython",
    "version": 3
   },
   "file_extension": ".py",
   "mimetype": "text/x-python",
   "name": "python",
   "nbconvert_exporter": "python",
   "pygments_lexer": "ipython3",
   "version": "3.11.5"
  }
 },
 "nbformat": 4,
 "nbformat_minor": 2
}
